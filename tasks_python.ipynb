{
  "nbformat": 4,
  "nbformat_minor": 0,
  "metadata": {
    "colab": {
      "provenance": []
    },
    "kernelspec": {
      "name": "python3",
      "display_name": "Python 3"
    },
    "language_info": {
      "name": "python"
    }
  },
  "cells": [
    {
      "cell_type": "markdown",
      "source": [
        "# Тестовые задания Python"
      ],
      "metadata": {
        "id": "4aZl-PyTMgTb"
      }
    },
    {
      "cell_type": "markdown",
      "source": [
        "1. Особенный номер – строка формата [2-4 цифры]\\[2-5 цифр]. Хороший номер - строка формата [4 цифры]\\[5 цифр]. Хороший номер можно получить из особенного дополнением нулей слева к обоим числам.<br>\n",
        "Пример:<br>\n",
        "17\\234 => 0017\\00234<br>\n",
        "Напишите функцию, которая принимает на вход строку и для каждого особенного номера, встречающегося в строке, выводит соответствующий хороший номер.<br>\n",
        "Ввод:<br>\n",
        "Адрес 5467\\456. Номер 405\\549<br>\n",
        "Вывод:<br>\n",
        "5467\\00456<br>\n",
        "0405\\00549\n",
        "\n",
        "\n"
      ],
      "metadata": {
        "id": "07c2QPSXMR4j"
      }
    },
    {
      "cell_type": "code",
      "execution_count": 20,
      "metadata": {
        "id": "jXfWTiwYL-RN"
      },
      "outputs": [],
      "source": [
        "import re\n",
        "\n",
        "def print_good_numbers(text):\n",
        "  special_number_pattern = '(\\d{2,4})\\\\\\(\\d{2,5})'\n",
        "  numbers_from_text = re.findall(special_number_pattern, text)\n",
        "  for number in numbers_from_text:\n",
        "    left_part = '0' * (4 - len(number[0])) + number[0]\n",
        "    right_part = '0' * (5 - len(number[1])) + number[1]\n",
        "    print(f\"{left_part}\\\\{right_part}\")"
      ]
    },
    {
      "cell_type": "code",
      "source": [
        "test_string1 = \"Адрес 5467\\\\456. Номер 405\\\\549\"\n",
        "print_good_numbers(test_string1)"
      ],
      "metadata": {
        "colab": {
          "base_uri": "https://localhost:8080/"
        },
        "id": "PrCTK7CjMq_m",
        "outputId": "e6c03d7a-cd75-4e84-93f8-d99a7b5d71a3"
      },
      "execution_count": 22,
      "outputs": [
        {
          "output_type": "stream",
          "name": "stdout",
          "text": [
            "5467\\00456\n",
            "0405\\00549\n"
          ]
        }
      ]
    },
    {
      "cell_type": "code",
      "source": [
        "test_string2 = \"Номер 17\\\\234\"\n",
        "print_good_numbers(test_string2)"
      ],
      "metadata": {
        "colab": {
          "base_uri": "https://localhost:8080/"
        },
        "id": "ReKbIfBN8Iiz",
        "outputId": "c96105b5-e42f-487b-9a0e-5ddc8c4a2369"
      },
      "execution_count": 23,
      "outputs": [
        {
          "output_type": "stream",
          "name": "stdout",
          "text": [
            "0017\\00234\n"
          ]
        }
      ]
    },
    {
      "cell_type": "markdown",
      "source": [
        "2. На прямой дороге расположено n+1 банкоматов. Было решено построить ещё k банкоматов для того, чтобы уменьшить расстояние между соседними банкоматами.\n",
        "На вход подаются натуральные числа n и k, а также n расстояний L, где L_i\\ – расстояние между банкоматами i и  i+1. Напишите функцию, которая добавляет k банкоматов таким образом, чтобы максимальное расстояние между соседними банкоматами являлось минимально возможным, и возвращает список новых расстояний между банкоматами.\n",
        ""
      ],
      "metadata": {
        "id": "cPcESnkCVPLs"
      }
    },
    {
      "cell_type": "code",
      "source": [
        "def can_place_atms(L, k, max_dist):\n",
        "    atms_to_place = 0\n",
        "    new_dists = []\n",
        "    for dist in L:\n",
        "        if dist <= max_dist:\n",
        "            new_dists.append(dist)\n",
        "        else:\n",
        "            num_new_atms = (dist - 1) // max_dist\n",
        "            atms_to_place += num_new_atms\n",
        "            segment_length = dist / (num_new_atms + 1)\n",
        "            new_dists.extend([segment_length]*(num_new_atms + 1))\n",
        "    flag = atms_to_place <= k\n",
        "    return flag, new_dists\n",
        "\n",
        "def minimize_max_distance(L, k):\n",
        "    new_L = []\n",
        "    left, right = 0, max(L)\n",
        "\n",
        "    while left < right:\n",
        "        mid = (left + right) // 2\n",
        "        can_place_flag, new_dists = can_place_atms(L, k, mid)\n",
        "        if can_place_flag:\n",
        "            right = mid\n",
        "            new_L = new_dists\n",
        "        else:\n",
        "            left = mid + 1\n",
        "\n",
        "    return new_L"
      ],
      "metadata": {
        "id": "BNgVYTHU0FPB"
      },
      "execution_count": 24,
      "outputs": []
    },
    {
      "cell_type": "code",
      "source": [
        "#n, k = [int(inp) for inp in input().split()]\n",
        "#L = [int(input()) for i in range(n)]\n",
        "n = 5\n",
        "k = 4\n",
        "L = [100, 180, 50, 45, 150]\n",
        "\n",
        "print(minimize_max_distance(L, k))"
      ],
      "metadata": {
        "colab": {
          "base_uri": "https://localhost:8080/"
        },
        "id": "Puiytr01ZofI",
        "outputId": "175ecc9e-0533-496a-82c3-f0db14e9d95d"
      },
      "execution_count": 25,
      "outputs": [
        {
          "output_type": "stream",
          "name": "stdout",
          "text": [
            "[50.0, 50.0, 60.0, 60.0, 60.0, 50, 45, 75.0, 75.0]\n"
          ]
        }
      ]
    },
    {
      "cell_type": "code",
      "source": [
        "k = 4\n",
        "L = [100]\n",
        "\n",
        "print(minimize_max_distance(L, k))"
      ],
      "metadata": {
        "colab": {
          "base_uri": "https://localhost:8080/"
        },
        "id": "NlcLIYYN8c79",
        "outputId": "cccd206a-ec8b-4a42-856e-c178e4513695"
      },
      "execution_count": 26,
      "outputs": [
        {
          "output_type": "stream",
          "name": "stdout",
          "text": [
            "[20.0, 20.0, 20.0, 20.0, 20.0]\n"
          ]
        }
      ]
    },
    {
      "cell_type": "markdown",
      "source": [
        "3.\tНапишите функцию, которая принимает на вход список строк, состоящих из цифр, и возвращает максимальное возможное число, которое может получиться в результате конкатенации всех строк из этого списка."
      ],
      "metadata": {
        "id": "OYp7xteooi39"
      }
    },
    {
      "cell_type": "code",
      "source": [
        "def get_max_possible_number(str_list):\n",
        "  max_len = len(max(str_list, key=len))\n",
        "  max_num = ''.join(sorted(str_list, reverse=True,\n",
        "                           key=lambda i: i*(max_len * 2 // len(i))))\n",
        "  max_num = max_num.lstrip('0')\n",
        "  if max_num == '':\n",
        "    return '0'\n",
        "\n",
        "  return max_num"
      ],
      "metadata": {
        "id": "xpc5xBxfouNd"
      },
      "execution_count": 27,
      "outputs": []
    },
    {
      "cell_type": "code",
      "source": [
        "test_list1 = ['11', '234', '005', '87', '8']\n",
        "print(get_max_possible_number(test_list1))"
      ],
      "metadata": {
        "colab": {
          "base_uri": "https://localhost:8080/"
        },
        "id": "dtPKIaW7DH3C",
        "outputId": "56e7ecc6-ff26-409c-a488-9145b60823c9"
      },
      "execution_count": 28,
      "outputs": [
        {
          "output_type": "stream",
          "name": "stdout",
          "text": [
            "88723411005\n"
          ]
        }
      ]
    },
    {
      "cell_type": "code",
      "source": [
        "test_list2 = ['0059', '00000510', '0']\n",
        "print(get_max_possible_number(test_list2))"
      ],
      "metadata": {
        "colab": {
          "base_uri": "https://localhost:8080/"
        },
        "id": "RTpOD9Ax2J3F",
        "outputId": "997c9e75-a60a-48cc-e80c-46b7f84cacc8"
      },
      "execution_count": 29,
      "outputs": [
        {
          "output_type": "stream",
          "name": "stdout",
          "text": [
            "59000005100\n"
          ]
        }
      ]
    },
    {
      "cell_type": "code",
      "source": [],
      "metadata": {
        "id": "slfmXjig2TCY"
      },
      "execution_count": null,
      "outputs": []
    }
  ]
}